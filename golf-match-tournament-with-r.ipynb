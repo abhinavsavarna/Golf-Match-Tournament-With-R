{
 "cells": [
  {
   "cell_type": "code",
   "execution_count": 1,
   "id": "8c5019dc",
   "metadata": {
    "_execution_state": "idle",
    "_uuid": "051d70d956493feee0c6d64651c6a088724dca2a",
    "execution": {
     "iopub.execute_input": "2024-12-01T04:10:26.648031Z",
     "iopub.status.busy": "2024-12-01T04:10:26.645904Z",
     "iopub.status.idle": "2024-12-01T04:10:26.839179Z",
     "shell.execute_reply": "2024-12-01T04:10:26.836793Z"
    },
    "papermill": {
     "duration": 0.199881,
     "end_time": "2024-12-01T04:10:26.841760",
     "exception": false,
     "start_time": "2024-12-01T04:10:26.641879",
     "status": "completed"
    },
    "tags": []
   },
   "outputs": [
    {
     "name": "stdout",
     "output_type": "stream",
     "text": [
      "\n",
      "** Round 1 (Quarterfinals) **\n",
      "\n",
      "Match: Team 1 vs Team 2 \n",
      "Winner: Team 2 \n",
      "Action: Team 2 dominates and advances to the next round!\n",
      "\n",
      "Match: Team 3 vs Team 4 \n",
      "Winner: Team 4 \n",
      "Action: Team 4 dominates and advances to the next round!\n",
      "\n",
      "Match: Team 5 vs Team 6 \n",
      "Winner: Team 5 \n",
      "Action: Team 5 dominates and advances to the next round!\n",
      "\n",
      "Match: Team 7 vs Team 8 \n",
      "Winner: Team 7 \n",
      "Action: Team 7 dominates and advances to the next round!\n",
      "\n",
      "** Round 2 (Semifinals) **\n",
      "\n",
      "Match: Team 2 vs Team 4 \n",
      "Winner: Team 4 \n",
      "Action: Team 4 defeats the opponent and heads to the final!\n",
      "\n",
      "Match: Team 5 vs Team 7 \n",
      "Winner: Team 5 \n",
      "Action: Team 5 defeats the opponent and heads to the final!\n"
     ]
    }
   ],
   "source": [
    "# Function to simulate a match between two teams and return the winner\n",
    "simulateMatch <- function(team1, team2) {\n",
    "  # Randomly choose the winner (50% chance for each team)\n",
    "  winner <- ifelse(runif(1) > 0.5, team1, team2)\n",
    "  return(winner)\n",
    "}\n",
    "\n",
    "# Main function to simulate the tournament\n",
    "simulateTournament <- function() {\n",
    "  # Teams participating in the tournament\n",
    "  teams <- c(1, 2, 3, 4, 5, 6, 7, 8)\n",
    "  \n",
    "  # To store the match results\n",
    "  results <- list()\n",
    "\n",
    "  # Round 1: Quarterfinals\n",
    "  winnersRound1 <- c()\n",
    "  cat(\"\\n** Round 1 (Quarterfinals) **\\n\")\n",
    "  for (i in seq(1, length(teams), by = 2)) {\n",
    "    team1 <- teams[i]\n",
    "    team2 <- teams[i + 1]\n",
    "    winner <- simulateMatch(team1, team2)\n",
    "    winnersRound1 <- c(winnersRound1, winner)\n",
    "    cat(paste(\"\\nMatch: Team\", team1, \"vs Team\", team2, \"\\n\"))\n",
    "    cat(paste(\"Winner: Team\", winner, \"\\n\"))\n",
    "    cat(paste(\"Action: Team\", winner, \"dominates and advances to the next round!\\n\"))\n",
    "    results[[length(results) + 1]] <- list(round = 1, team1 = team1, team2 = team2, winner = winner)\n",
    "  }\n",
    "\n",
    "  # Round 2: Semifinals\n",
    "  winnersRound2 <- c()\n",
    "  cat(\"\\n** Round 2 (Semifinals) **\\n\")\n",
    "  for (i in seq(1, length(winnersRound1), by = 2)) {\n",
    "    team1 <- winnersRound1[i]\n",
    "    team2 <- winnersRound1[i + 1]\n",
    "    winner <- simulateMatch(team1, team2)\n",
    "    winnersRound2 <- c(winnersRound2, winner)\n",
    "    cat(paste(\"\\nMatch: Team\", team1, \"vs Team\", team2, \"\\n\"))\n",
    "    cat(paste(\"Winner: Team\", winner, \"\\n\"))\n",
    "    cat(paste(\"Action: Team\", winner, \"defeats the opponent and heads to the final!\\n\"))\n",
    "    results[[length(results) + 1]] <- list(round = 2, team1 = team1, team2 = team2, winner = winner)\n",
    "  }\n",
    "\n",
    "  # Round 3: Finals\n",
    "  \n",
    "}\n",
    "\n",
    "# Run the tournament and print the results\n",
    "tournament_results <- simulateTournament()\n"
   ]
  },
  {
   "cell_type": "code",
   "execution_count": 2,
   "id": "e5341c64",
   "metadata": {
    "execution": {
     "iopub.execute_input": "2024-12-01T04:10:26.883132Z",
     "iopub.status.busy": "2024-12-01T04:10:26.846981Z",
     "iopub.status.idle": "2024-12-01T04:10:27.242664Z",
     "shell.execute_reply": "2024-12-01T04:10:27.240550Z"
    },
    "papermill": {
     "duration": 0.401727,
     "end_time": "2024-12-01T04:10:27.245170",
     "exception": false,
     "start_time": "2024-12-01T04:10:26.843443",
     "status": "completed"
    },
    "tags": []
   },
   "outputs": [
    {
     "name": "stdout",
     "output_type": "stream",
     "text": [
      "  round team1 team2 winner                                              action\n",
      "1     1     1     2      2    Team 2 dominates and advances to the next round!\n",
      "2     1     3     4      3    Team 3 dominates and advances to the next round!\n",
      "3     1     5     6      5    Team 5 dominates and advances to the next round!\n",
      "4     1     7     8      8    Team 8 dominates and advances to the next round!\n",
      "5     2     2     3      2 Team 2 defeats the opponent and heads to the final!\n",
      "6     2     5     8      8 Team 8 defeats the opponent and heads to the final!\n",
      "7     3     2     3      2                              Team 2 wins the final!\n"
     ]
    }
   ],
   "source": [
    "library(ggplot2)\n",
    "\n",
    "# Tournament results data\n",
    "tournament_results <- data.frame(\n",
    "  round = c(1, 1, 1, 1, 2, 2, 3),\n",
    "  team1 = c(1, 3, 5, 7, 2, 5, 2),\n",
    "  team2 = c(2, 4, 6, 8, 3, 8, 3),\n",
    "  winner = c(2, 3, 5, 8, 2, 8, 2),\n",
    "  action = c(\"Team 2 dominates and advances to the next round!\",\n",
    "             \"Team 3 dominates and advances to the next round!\",\n",
    "             \"Team 5 dominates and advances to the next round!\",\n",
    "             \"Team 8 dominates and advances to the next round!\",\n",
    "             \"Team 2 defeats the opponent and heads to the final!\",\n",
    "             \"Team 8 defeats the opponent and heads to the final!\",\n",
    "             \"Team 2 wins the final!\")\n",
    ")\n",
    "\n",
    "# Print the data for clarity\n",
    "print(tournament_results)\n"
   ]
  }
 ],
 "metadata": {
  "kaggle": {
   "accelerator": "none",
   "dataSources": [],
   "dockerImageVersionId": 30749,
   "isGpuEnabled": false,
   "isInternetEnabled": true,
   "language": "r",
   "sourceType": "notebook"
  },
  "kernelspec": {
   "display_name": "R",
   "language": "R",
   "name": "ir"
  },
  "language_info": {
   "codemirror_mode": "r",
   "file_extension": ".r",
   "mimetype": "text/x-r-source",
   "name": "R",
   "pygments_lexer": "r",
   "version": "4.4.0"
  },
  "papermill": {
   "default_parameters": {},
   "duration": 3.894722,
   "end_time": "2024-12-01T04:10:27.368110",
   "environment_variables": {},
   "exception": null,
   "input_path": "__notebook__.ipynb",
   "output_path": "__notebook__.ipynb",
   "parameters": {},
   "start_time": "2024-12-01T04:10:23.473388",
   "version": "2.6.0"
  }
 },
 "nbformat": 4,
 "nbformat_minor": 5
}
